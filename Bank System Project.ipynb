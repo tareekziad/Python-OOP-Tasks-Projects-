{
 "cells": [
  {
   "cell_type": "markdown",
   "metadata": {},
   "source": [
    "# Bank System Project\n",
    "* A system you can sign in and sign out \n",
    "* Creat Account\n",
    "* Enquery about account , balance\n",
    "* you can deposit and withdraw too\n",
    "### Description of program\n",
    "* when you signup you asked for all data to be entered (ID , name , age , gender , password) if ID is exist try again\n",
    "* then you can do any of our fuctionality show your details , show your balance , deposit , withdraw and before every operation you will ask for your password \n",
    "* after doing your operation press[0] to finish then signout or exit from system  \n",
    "* if you signin you are asked for youe id and password if one of them is wrong you are asked for another try \n",
    "* if you sign in successfully you can do one of our operating system that mentioned above and follow the path that mentioned above\n",
    "* in signin , singout and signup operations your must type them in thes format without spaces \n",
    "* in bank system you can press [0] to finish , [1] for show your account details , [2] for show your balance , [3] for withdraw and [4] for deposit  "
   ]
  },
  {
   "cell_type": "markdown",
   "metadata": {},
   "source": [
    "#### A dictionary for store client data while system is runinig"
   ]
  },
  {
   "cell_type": "code",
   "execution_count": 38,
   "metadata": {},
   "outputs": [],
   "source": [
    "from colorama import Fore, Back, Style\n",
    "my_Data = dict()"
   ]
  },
  {
   "cell_type": "markdown",
   "metadata": {},
   "source": [
    "#### Check data base file is exist or not \n",
    "* if exist do no thing \n",
    "* if not exist create it"
   ]
  },
  {
   "cell_type": "code",
   "execution_count": 39,
   "metadata": {},
   "outputs": [],
   "source": [
    "import os\n",
    "if not os.path.exists('data_base.txt'):\n",
    "    with open('data_base.txt' , 'w')as DB:\n",
    "        pass"
   ]
  },
  {
   "cell_type": "markdown",
   "metadata": {},
   "source": [
    "#### class for set client data"
   ]
  },
  {
   "cell_type": "code",
   "execution_count": 40,
   "metadata": {},
   "outputs": [],
   "source": [
    "# create parent class named user \n",
    "class User ():\n",
    "    # set all attributes for user\n",
    "    def __init__(self):\n",
    "        pass\n",
    "    def set_ID (self , ID):\n",
    "        self._ID = ID\n",
    "    def get_ID (self):\n",
    "        return self._ID\n",
    "    def set_password(self , password):\n",
    "        self._password = password\n",
    "    def get_password (self):\n",
    "        return self._password\n",
    "    def set_name (self , name):\n",
    "        self._name = name\n",
    "    def get_name(self):\n",
    "        return self._name\n",
    "    def set_age (self , age ):\n",
    "        self._age = age \n",
    "    def get_age (self):\n",
    "        return self._age\n",
    "    def set_gender (self , gender):\n",
    "        self._gender = gender \n",
    "    def get_gender(self):\n",
    "        return self._gender\n",
    "    def Show_details(self):\n",
    "        print(Fore.BLUE +Style.BRIGHT+'User Details') \n",
    "        print(Fore.GREEN +Style.BRIGHT+f'id: {self._ID}'.title())\n",
    "        print(Fore.GREEN +Style.BRIGHT+f'name: {self._name}'.title()) \n",
    "        print(Fore.GREEN +Style.BRIGHT+f'age: {self._age}'.title()) \n",
    "        print(Fore.GREEN +Style.BRIGHT+f'gender: {self._gender}'.title())\n",
    "#ser = User()\n",
    "#user.set_ID(input())\n",
    "#user.set_password(input())\n",
    "#user.set_name(input())\n",
    "#user.set_age(int(input()))\n",
    "#user.set_gender(input())\n",
    "#user.Show_details()"
   ]
  },
  {
   "cell_type": "markdown",
   "metadata": {},
   "source": [
    "#### Bank operation class \n",
    "* Inherete from user clas and call it for setting data \n",
    "* Deposite function allow client to add to his balance \n",
    "* Withdraw function that allow client to take money "
   ]
  },
  {
   "cell_type": "code",
   "execution_count": 41,
   "metadata": {},
   "outputs": [],
   "source": [
    "# class bank \n",
    "class Bank (User):\n",
    "    # in intiation call user to set client data \n",
    "    def __init__(self , ID ,name , age , gender , passowrd , balance = 0):\n",
    "        User.set_name(self,name)\n",
    "        User.set_age(self,age)\n",
    "        User.set_gender(self,gender)\n",
    "        User.set_ID(self,ID)\n",
    "        User.set_password(self,passowrd)\n",
    "        self.balance = balance\n",
    "    #-------------------------------------------------\n",
    "    def deposit(self , amount):\n",
    "        self.amount = amount \n",
    "        self.balance = self.balance + self.amount \n",
    "        print (Fore.GREEN+Style.BRIGHT+f\"Account Balance has been updated and become {self.balance} $\".title())\n",
    "    #-----------------------------------------------------------------------------------\n",
    "    def withdraw (self , amount):\n",
    "        self.amount = amount \n",
    "        if self.balance < amount :\n",
    "            print (Fore.RED+Style.BRIGHT+f\"Insufficient Funds: Balance Availble = {self.balance}\".title())\n",
    "        else:\n",
    "            self.balance -= self.amount \n",
    "            print (Fore.GREEN +Style.BRIGHT+\"Operation Done succsessfuly\".title())\n",
    "            print (Fore.GREEN +Style.BRIGHT+f\"Balance has been updated and become {self.balance}\")\n",
    "    #-------------------------------------------------------------------------------------\n",
    "    def  view_balance (self):\n",
    "        print (Fore.GREEN +Style.BRIGHT+f\"Your current Balance now is {self.balance} $ \".title())\n",
    "        \n",
    "#user_2 = Bank (input(),int(input()),input())\n",
    "#user_2.Show_details()\n",
    "#user_2.deposit(int(input())) \n",
    "#user_2.withdraw(int(input()))\n",
    "#user_2.view_balance()"
   ]
  },
  {
   "cell_type": "markdown",
   "metadata": {},
   "source": [
    "#### show functions that appear for user"
   ]
  },
  {
   "cell_type": "code",
   "execution_count": 42,
   "metadata": {},
   "outputs": [],
   "source": [
    "def show_options1():\n",
    "    print(Fore.BLACK +Style.BRIGHT+'-'*25)\n",
    "    print(Fore.BLACK +Style.BRIGHT+'press [0] to finish processes '.title())\n",
    "    print(Fore.BLACK +Style.BRIGHT+'press [1] to show all account details '.title())\n",
    "    print(Fore.BLACK +Style.BRIGHT+'press [2] to show account balance '.title())\n",
    "    print(Fore.BLACK +Style.BRIGHT+'press [3] to withdraw ')\n",
    "    print(Fore.BLACK +Style.BRIGHT+'press [4] to deposit ')\n",
    "    print(Fore.BLACK +Style.BRIGHT+'-'*25)\n",
    "#--------------------------------------------------------------------------------------\n",
    "def show_options2():\n",
    "    print(Fore.BLACK +Style.BRIGHT+'-'*25)\n",
    "    print(Fore.BLACK +Style.BRIGHT+'type signup to sign up '.title())\n",
    "    print(Fore.BLACK +Style.BRIGHT+'type signin to sign in '.title())\n",
    "    print(Fore.BLACK +Style.BRIGHT+'type exit to shut down '.title())\n",
    "    print(Fore.BLACK +Style.BRIGHT+'-'*25)\n",
    "#show()"
   ]
  },
  {
   "cell_type": "markdown",
   "metadata": {},
   "source": [
    "#### function take name as input and check it \n",
    "* make small check on Name to make sure that is deosnt start with a digit "
   ]
  },
  {
   "cell_type": "code",
   "execution_count": 64,
   "metadata": {},
   "outputs": [],
   "source": [
    "def input_name ():\n",
    "    # take name from user \n",
    "    name = input(Fore.BLACK +Style.BRIGHT+'enter your name : '.title().strip())\n",
    "    # check if it staet with digit\n",
    "    while name[0].isdigit():\n",
    "        # if that , ask for try again\n",
    "        print(Fore.RED +Style.BRIGHT+\"invalid name ! , name mustn't start with digit\" .title())\n",
    "        name = input(Fore.BLACK +Style.BRIGHT+'enter valid name '.title().strip())\n",
    "    return name"
   ]
  },
  {
   "cell_type": "markdown",
   "metadata": {},
   "source": [
    "#### function take ID as input and check it \n",
    "* make small check on ID to make sure that is integer value "
   ]
  },
  {
   "cell_type": "code",
   "execution_count": 44,
   "metadata": {},
   "outputs": [],
   "source": [
    "def input_ID():\n",
    "    while True:\n",
    "        try :\n",
    "            # try take id as input \n",
    "            ID = int(input(Fore.BLACK +Style.BRIGHT+'enter ID : '.title()))\n",
    "            break\n",
    "        except Exception as e:\n",
    "            # if it invalid ask for another one\n",
    "            print(Fore.RED +Style.BRIGHT+type(e).__name__ + 'ID must be integer value ! '.title())\n",
    "    return ID"
   ]
  },
  {
   "cell_type": "markdown",
   "metadata": {},
   "source": [
    "#### function take name as input and check it \n",
    "* make small check on password to make sure that is more than 4 charchter "
   ]
  },
  {
   "cell_type": "code",
   "execution_count": 45,
   "metadata": {},
   "outputs": [],
   "source": [
    "def input_password():\n",
    "    while True:\n",
    "        # take password as input from user \n",
    "        password = input(Fore.BLACK +Style.BRIGHT+'enter your account password : '.title())\n",
    "        # check if length is less than 4 ask for input it again \n",
    "        if len(password) >= 4:\n",
    "            break\n",
    "        else :\n",
    "            print(Fore.RED +Style.BRIGHT+'not strong passord should be more than 4 character !'.title())\n",
    "    return password"
   ]
  },
  {
   "cell_type": "markdown",
   "metadata": {},
   "source": [
    "#### function take name as input and check it \n",
    "* make small check on age to make sure that is integer value "
   ]
  },
  {
   "cell_type": "code",
   "execution_count": 46,
   "metadata": {},
   "outputs": [],
   "source": [
    "def input_age ():\n",
    "    while True:\n",
    "        try :\n",
    "            age = int(input(Fore.BLACK+Style.BRIGHT+'enter your age : '.title()))\n",
    "            break\n",
    "        except Exception as e :\n",
    "            print(Fore.RED +Style.BRIGHT+type(e).__name__ + 'age must be integer value ! '.title())\n",
    "    return age"
   ]
  },
  {
   "cell_type": "markdown",
   "metadata": {},
   "source": [
    "#### function take name as input and check it \n",
    "* make small check on gender to make sure that is male or female"
   ]
  },
  {
   "cell_type": "code",
   "execution_count": 65,
   "metadata": {},
   "outputs": [],
   "source": [
    "def input_gender():\n",
    "    gender = input(Fore.BLACK+Style.BRIGHT+'enter your gender : '.title().strip())\n",
    "    while gender.lower().strip() not in ['male','female']:\n",
    "        print(Fore.RED +Style.BRIGHT+\"invalid gender ! , gender musn't start with digit and be a male of female\".title())\n",
    "        gender = input(Fore.BLACK+Style.BRIGHT+'enter valid genger : '.title().strip())\n",
    "    return gender"
   ]
  },
  {
   "cell_type": "markdown",
   "metadata": {},
   "source": [
    "#### function take name as input and check it \n",
    "* make small check on password to make sure that is valid to do any operation in system  "
   ]
  },
  {
   "cell_type": "code",
   "execution_count": 48,
   "metadata": {},
   "outputs": [],
   "source": [
    "def get_checker_password(user):\n",
    "    # take object user \n",
    "    # take password from user \n",
    "    ipassword = input(Fore.BLACK+Style.BRIGHT+'enter your account password : '.title())\n",
    "    # while password is wrong try enter again \n",
    "    while ipassword != user.get_password():\n",
    "        ipassword = input(Fore.RED +Style.BRIGHT+'incorrect password ! try again :'.title())\n",
    "    # once it is correct return \n",
    "    return True"
   ]
  },
  {
   "cell_type": "markdown",
   "metadata": {},
   "source": [
    "#### Store and  Load data funcctions \n",
    "* store function take data from dictionary and write it to file txt\n",
    "* load function load data from file txt and put it in dictionary format"
   ]
  },
  {
   "cell_type": "code",
   "execution_count": 49,
   "metadata": {},
   "outputs": [],
   "source": [
    "# function load data from file\n",
    "def store_data (my_Data):\n",
    "    # open file and write data that is in dict\n",
    "    with open ('data_base.txt' , 'w+') as file :\n",
    "        for k , val in my_Data.items():\n",
    "            # write data as id is key and it unipue , data as list \n",
    "            file.writelines(k+','+','.join(val)+'\\n')\n",
    "#store_data(my_Data)\n",
    "#-------------------------------------------------------------\n",
    "def load_data ():\n",
    "    # iterate on file line by line \n",
    "    for i in open('data_base.txt' , 'r'):\n",
    "        # make id as key and remain data as value \n",
    "        k = i.split(',')[0]\n",
    "        val = i.split(',')[1:]\n",
    "        val[-1] = val[-1][:len(val[-1])-1]\n",
    "        my_Data[k] = val\n",
    "    return my_Data\n",
    "#my_Data = load_data()\n",
    "#print(my_Data)"
   ]
  },
  {
   "cell_type": "markdown",
   "metadata": {},
   "source": [
    "#### System path\n",
    "* check choice of client and based on it do action"
   ]
  },
  {
   "cell_type": "code",
   "execution_count": 50,
   "metadata": {},
   "outputs": [],
   "source": [
    "def system (user):\n",
    "    # show user choices that he can do it\n",
    "    show_options1()\n",
    "    # ask for take an action \n",
    "    ch = input()\n",
    "    while 1:\n",
    "        # if it 1 ask user for enter his password then show user details\n",
    "        if ch == '1':\n",
    "            # check validation of password\n",
    "            if get_checker_password(user):\n",
    "                # then show details\n",
    "                user.Show_details()\n",
    "        # if it 2 ask user for enter his password then view balance \n",
    "        elif ch == '2':\n",
    "            # check validation of password\n",
    "            if get_checker_password(user):\n",
    "                # if password valid view balance \n",
    "                user.view_balance()\n",
    "        # if it 3 ask user for enter his password then take amount to withdraw\n",
    "        elif ch == '3':\n",
    "            # check validation of password\n",
    "            if get_checker_password(user):\n",
    "                try :\n",
    "                    # ask for enter amount \n",
    "                    amount = int(input(Fore.BLACK+Style.BRIGHT+'enter amount you need : '.title()))\n",
    "                    user.withdraw(amount)\n",
    "                except Exception as e:\n",
    "                    print(Fore.RED+Style.BRIGHT+type(e).__name__ + 'amount must ba numeric value !'.title())\n",
    "        # if it 4 ask user for enter his password then take amount to deposit\n",
    "        elif ch == '4':\n",
    "            #check validation of password\n",
    "            if get_checker_password(user):\n",
    "                try:\n",
    "                    # ask for enter amount \n",
    "                    amount = int(input(Fore.BLACK+Style.BRIGHT+'enter amount to be added to your balance : '.title()))\n",
    "                    user.deposit(amount)\n",
    "                except Exception as e:\n",
    "                    print(Fore.RED+Style.BRIGHT+type(e).__name__ + 'amount must ba numeric value !'.title())\n",
    "        # if it 0 store user data in dictionary \n",
    "        elif ch == '0':\n",
    "            # store ID as key and its value is a list of info \n",
    "            my_Data[str(user.get_ID())] = [user.get_name() , str(user.get_age()) ,\n",
    "                                           user.get_gender() , user.get_password() , str(user.balance)]\n",
    "            store_data(my_Data)\n",
    "            break\n",
    "        else :\n",
    "            print(Fore.RED +Style.BRIGHT+'invalid choice !!'.title())\n",
    "        show_options1()\n",
    "        ch = input()"
   ]
  },
  {
   "cell_type": "markdown",
   "metadata": {},
   "source": [
    "#### Signup Operation \n",
    "* load data from file to ensure that account doesnt exist before \n",
    "* then ask user for enter his information (id , name , age ...) to create account"
   ]
  },
  {
   "cell_type": "code",
   "execution_count": 51,
   "metadata": {},
   "outputs": [],
   "source": [
    "def signup():\n",
    "    # load data from file \n",
    "    my_Data = load_data()\n",
    "    # ask for enter id \n",
    "    iD = input_ID()\n",
    "    # while id was exist ask for another one \n",
    "    while str(iD) in my_Data.keys() and len(my_Data) != 0:\n",
    "        print(Fore.RED +Style.BRIGHT+'id is exist !! try again '.title())\n",
    "        iD = input_ID()\n",
    "    # ask for enter name \n",
    "    nam = input_name()\n",
    "    # ask for enter age  \n",
    "    age = input_age()\n",
    "    # ask for enter gender\n",
    "    gen = input_gender()\n",
    "    # ask for enter password\n",
    "    passw = input_password()\n",
    "    # create account for new user \n",
    "    user = Bank(iD , nam , age , gen , passw)\n",
    "    print(Fore.GREEN +Style.BRIGHT+'account created successfuly!'.title())\n",
    "    return user\n",
    "#signup()\n",
    "#print(my_Data)"
   ]
  },
  {
   "cell_type": "markdown",
   "metadata": {},
   "source": [
    "#### Signin Operation \n",
    "* load data from file to ensure that account is exist\n",
    "* ask user to enter his ID and Password to ensure that account is exist "
   ]
  },
  {
   "cell_type": "code",
   "execution_count": 61,
   "metadata": {},
   "outputs": [],
   "source": [
    "def signin ():\n",
    "    # load data from file \n",
    "    my_Data = load_data()\n",
    "    if len(my_Data):\n",
    "        # ask to enter ID\n",
    "        iD = input_ID()\n",
    "        # ask for enter password\n",
    "        passw = input_password()\n",
    "        # while ID or Password is incorrect\n",
    "        while str(iD) not in my_Data.keys() or my_Data[str(iD)][3] != passw:\n",
    "            print(Fore.RED +Style.BRIGHT+'incorrect id or incoreect password ! try again '.title())\n",
    "            iD = input_ID()\n",
    "            passw = input_password()\n",
    "        # get client info to deal with bank system\n",
    "        client_data = Bank(iD , my_Data[str(iD)][0] , int(my_Data[str(iD)][1]) \n",
    "                           , my_Data[str(iD)][2] , my_Data[str(iD)][3] ,int(my_Data[str(iD)][4]))\n",
    "        print(Fore.GREEN +Style.BRIGHT+'welcome back '.title()+ client_data.get_name())\n",
    "        return (client_data)\n",
    "    else :\n",
    "        return False"
   ]
  },
  {
   "cell_type": "markdown",
   "metadata": {},
   "source": [
    "#### Main process \n",
    "* Signup , Signin , Signout , Exist "
   ]
  },
  {
   "cell_type": "code",
   "execution_count": 63,
   "metadata": {},
   "outputs": [],
   "source": [
    "def main():\n",
    "    print(Fore.GREEN +Style.BRIGHT+'welcome to our bank system '.title())\n",
    "    # ask for enter an option signin , singup , signout , exist\n",
    "    show_options2()\n",
    "    c = input()\n",
    "    while True:\n",
    "        flag = True\n",
    "        # in signup situation\n",
    "        if c.lower() == 'signup':\n",
    "            # make new account \n",
    "            new_user = signup()\n",
    "            # go to bank system to do some operation\n",
    "            system(new_user)\n",
    "            # after finish ask for exit or signout \n",
    "            print(Fore.BLUE +Style.BRIGHT+'type signout if you would like to sign out or exit to shut down '.title())\n",
    "            choose = input()\n",
    "            while choose.lower() not in ['signout' , 'exit']:\n",
    "                print(Fore.RED +Style.BRIGHT+'wrong choice !! '.title())\n",
    "                print(Fore.BLUE +Style.BRIGHT+'type signout if you would like to sign out or exit to shut down '.title())\n",
    "                choose = input()\n",
    "            if choose.lower() == 'signout':\n",
    "                flag = True\n",
    "            elif choose.lower() == 'exit':\n",
    "                flag = False\n",
    "            # sign up\n",
    "        #-------------------------------------------------------------------------------------------\n",
    "        # in signin situation \n",
    "        elif c.lower() == 'signin':\n",
    "            # get info for user \n",
    "            # go to bank system to perform some operation \n",
    "            client = signin()\n",
    "            if client != False:\n",
    "                system(client)\n",
    "            else :\n",
    "                print(Fore.RED +Style.BRIGHT+'you use the system for first time no data available !'.title())\n",
    "                c = input(Fore.RED +Style.BRIGHT+'type signup to sign up instead : '.title())\n",
    "                continue\n",
    "            # ask them for signout or exit \n",
    "            print(Fore.BLUE +Style.BRIGHT+'type signout if you would like to sign out \\ntype exit to shut down :'.title())\n",
    "            choose = input()\n",
    "            while choose.lower().strip() not in ['signout' , 'exit']:\n",
    "                print(Fore.RED +Style.BRIGHT+'wrong choice !! ')\n",
    "                print(Fore.BLUE +Style.BRIGHT+'type signout if you would like to sign out \\ntype exit to shut down '.title())\n",
    "                choose = input()\n",
    "            if choose.lower().strip() == 'signout':\n",
    "                flag = True\n",
    "            elif choose.lower().strip() == 'exit':\n",
    "                flag = False\n",
    "        elif c.lower().strip() == 'exit':\n",
    "            break\n",
    "        else :\n",
    "            print(Fore.RED +Style.BRIGHT+'wrong choice !!')\n",
    "            show_options2()\n",
    "            c = input()\n",
    "            continue\n",
    "        if flag == True:\n",
    "            show_options2()\n",
    "            c = input()\n",
    "        else :\n",
    "            break\n",
    "        "
   ]
  },
  {
   "cell_type": "code",
   "execution_count": 54,
   "metadata": {},
   "outputs": [],
   "source": [
    "#!data_base.txt"
   ]
  },
  {
   "cell_type": "code",
   "execution_count": 67,
   "metadata": {},
   "outputs": [
    {
     "name": "stdout",
     "output_type": "stream",
     "text": [
      "\u001b[32m\u001b[1mWelcome To Our Bank System \n",
      "\u001b[30m\u001b[1m-------------------------\n",
      "\u001b[30m\u001b[1mType Signup To Sign Up \n",
      "\u001b[30m\u001b[1mType Signin To Sign In \n",
      "\u001b[30m\u001b[1mType Exit To Shut Down \n",
      "\u001b[30m\u001b[1m-------------------------\n",
      "signin\n",
      "Enter Id : 6\n",
      "Enter Your Account Password : k123\n",
      "\u001b[32m\u001b[1mWelcome Back khaled ali\n",
      "\u001b[30m\u001b[1m-------------------------\n",
      "\u001b[30m\u001b[1mPress [0] To Finish Processes \n",
      "\u001b[30m\u001b[1mPress [1] To Show All Account Details \n",
      "\u001b[30m\u001b[1mPress [2] To Show Account Balance \n",
      "\u001b[30m\u001b[1mpress [3] to withdraw \n",
      "\u001b[30m\u001b[1mpress [4] to deposit \n",
      "\u001b[30m\u001b[1m-------------------------\n",
      "1\n",
      "Enter Your Account Password : k123\n",
      "\u001b[34m\u001b[1mUser Details\n",
      "\u001b[32m\u001b[1mId: 6\n",
      "\u001b[32m\u001b[1mName: Khaled Ali\n",
      "\u001b[32m\u001b[1mAge: 34\n",
      "\u001b[32m\u001b[1mGender: Male                          \n",
      "\u001b[30m\u001b[1m-------------------------\n",
      "\u001b[30m\u001b[1mPress [0] To Finish Processes \n",
      "\u001b[30m\u001b[1mPress [1] To Show All Account Details \n",
      "\u001b[30m\u001b[1mPress [2] To Show Account Balance \n",
      "\u001b[30m\u001b[1mpress [3] to withdraw \n",
      "\u001b[30m\u001b[1mpress [4] to deposit \n",
      "\u001b[30m\u001b[1m-------------------------\n",
      "0\n",
      "\u001b[34m\u001b[1mType Signout If You Would Like To Sign Out \n",
      "Type Exit To Shut Down :\n",
      "exit\n"
     ]
    }
   ],
   "source": [
    "if __name__ == '__main__' : \n",
    "    main()"
   ]
  },
  {
   "cell_type": "code",
   "execution_count": null,
   "metadata": {},
   "outputs": [],
   "source": []
  }
 ],
 "metadata": {
  "kernelspec": {
   "display_name": "Python 3",
   "language": "python",
   "name": "python3"
  },
  "language_info": {
   "codemirror_mode": {
    "name": "ipython",
    "version": 3
   },
   "file_extension": ".py",
   "mimetype": "text/x-python",
   "name": "python",
   "nbconvert_exporter": "python",
   "pygments_lexer": "ipython3",
   "version": "3.7.6"
  }
 },
 "nbformat": 4,
 "nbformat_minor": 4
}
