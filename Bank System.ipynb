{
 "cells": [
  {
   "cell_type": "markdown",
   "metadata": {},
   "source": [
    "# Banking System using OOP \n",
    "## - parent Class: User \n",
    "### Holds details about an user \n",
    "### has a function to show user details \n",
    "\n",
    "## - Child Class: Bank \n",
    "### Stores details about the accound balance\n",
    "### Stores details about the amount \n",
    "### Allows for deposits, withdraw, view_balance \n"
   ]
  },
  {
   "cell_type": "code",
   "execution_count": 4,
   "metadata": {},
   "outputs": [],
   "source": [
    "#Parent Class \n",
    "class User ():\n",
    "    def __init__(self, name , age , gender):\n",
    "        self.name = name \n",
    "        self.age= age \n",
    "        self.gender=gender \n",
    "    \n",
    "    def show_details(self):\n",
    "        print ('User Details') \n",
    "        print (\"Name:\", self.name) \n",
    "        print (\"Age: \", self.age) \n",
    "        print (\"Gender: \" , self.gender)\n",
    "\n",
    "        \n",
    "user_1 = User('Mohamed',25,'Male')\n"
   ]
  },
  {
   "cell_type": "code",
   "execution_count": 7,
   "metadata": {},
   "outputs": [
    {
     "name": "stdout",
     "output_type": "stream",
     "text": [
      "User Details\n",
      "Name: Mohamed\n",
      "Age:  25\n",
      "Gender:  Male\n",
      "Account Balance has been updated: $ 100\n",
      "Operation Done succsessfuly\n",
      "Balance has been updated  0\n"
     ]
    }
   ],
   "source": [
    "\n",
    "## - Child Class: Bank \n",
    "### Stores details about the accound balance\n",
    "### Stores details about the amount \n",
    "### Allows for deposits, withdraw, view_balance \n",
    "class Bank(User):\n",
    "    def __init__(self,name,age,gender):\n",
    "        User.__init__(self,name,age,gender)\n",
    "        self.balance=0 \n",
    "    \n",
    "    def deposit(self,amount):\n",
    "        self.amount = amount \n",
    "        self.balance = self.balance + self.amount \n",
    "        print (\"Account Balance has been updated: $\" , self.balance)\n",
    "    \n",
    "    def withdraw (self,amount):\n",
    "        self.amount = amount \n",
    "        if self.balance < amount :\n",
    "            print (\"Insufficient Funds: Balance Availble = \" , self.balance)\n",
    "        else:\n",
    "            self.balance -= self.amount \n",
    "            print (\"Operation Done succsessfuly\")\n",
    "            print (\"Balance has been updated \" , self.balance)\n",
    "        \n",
    "    def  view_balance (self):\n",
    "        print (\"Your current Balance now is \" , self.balance)\n",
    "     \n",
    "        \n",
    "user_2 = Bank ('Mohamed',25,'Male')\n",
    "user_2.show_details()\n",
    "user_2.deposit(100) \n",
    "user_2.withdraw(100)"
   ]
  },
  {
   "cell_type": "markdown",
   "metadata": {},
   "source": []
  }
 ],
 "metadata": {
  "kernelspec": {
   "display_name": "Python 3",
   "language": "python",
   "name": "python3"
  },
  "language_info": {
   "codemirror_mode": {
    "name": "ipython",
    "version": 3
   },
   "file_extension": ".py",
   "mimetype": "text/x-python",
   "name": "python",
   "nbconvert_exporter": "python",
   "pygments_lexer": "ipython3",
   "version": "3.7.6"
  }
 },
 "nbformat": 4,
 "nbformat_minor": 2
}
